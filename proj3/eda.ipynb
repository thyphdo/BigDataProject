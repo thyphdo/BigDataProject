{
 "cells": [
  {
   "cell_type": "markdown",
   "metadata": {},
   "source": [
    "## Note\n",
    "\n",
    "This script contains the re-processing step and EDA step \n",
    "\n",
    "In order to run this script:\n",
    "\n",
    "    1. all .wav file should be already processed into .csv file through proj2.ipynb\n",
    "    2. This script should be in the same folder with all .csv files listed in 'filename' list \n",
    "    \n",
    "The algorithms are performed based on the following assumptions:\n",
    "    \n",
    "    1. The wave data (after PDA step) is compressed to a list of 20x4 matrix. 20 rows is chosen by the MFCC normalize algorithm and 4 features is chosen as the component number at PDA step. These two parameters can be modified.\n",
    "    \n",
    "    2. The 20x4 matrix is flattened (reshape) to a 80-element list. Data X is a 203 rows of a single column containing a list of 80 element."
   ]
  },
  {
   "cell_type": "code",
   "execution_count": 11,
   "metadata": {},
   "outputs": [],
   "source": [
    "import librosa\n",
    "import matplotlib.pyplot as plt\n",
    "import IPython.display as ipd\n",
    "import librosa.display\n",
    "import numpy as np\n",
    "import pandas as pd\n",
    "import re\n",
    "%matplotlib inline"
   ]
  },
  {
   "cell_type": "code",
   "execution_count": 12,
   "metadata": {},
   "outputs": [],
   "source": [
    "filename = ['astronomy_filler','batman_filler','food_filler','forrestgump_filler','greeneggs_filler',\n",
    "           'hamlet_filler','honorcode_filler','ironman_filler','uh_training','wonka_filler']"
   ]
  },
  {
   "cell_type": "code",
   "execution_count": 13,
   "metadata": {},
   "outputs": [],
   "source": [
    "def genDataFrame(names,masterDF):\n",
    "    for file in names:\n",
    "        df = pd.read_csv(file+'.csv')\n",
    "        masterDF = pd.concat([masterDF,df])\n",
    "    #reset indices\n",
    "    masterDF = masterDF.reset_index(drop=True)\n",
    "    return masterDF\n",
    "masterOrig = genDataFrame(filename,pd.DataFrame())\n",
    "masterOrig.head()\n",
    "#Change column name \n",
    "masterOrig = masterOrig.rename(columns={'Featured Wave': 'Wave'})"
   ]
  },
  {
   "cell_type": "code",
   "execution_count": 27,
   "metadata": {},
   "outputs": [
    {
     "name": "stdout",
     "output_type": "stream",
     "text": [
      "Number of records: 203\n",
      "Number of column features: 4\n",
      "Number of filler records: 43\n"
     ]
    }
   ],
   "source": [
    "print(\"Number of records:\",masterOrig.shape[0])\n",
    "print(\"Number of column features:\",masterOrig.shape[1])\n",
    "print(\"Number of filler records:\",masterOrig['is Filler'].sum())"
   ]
  },
  {
   "cell_type": "code",
   "execution_count": 15,
   "metadata": {},
   "outputs": [
    {
     "name": "stdout",
     "output_type": "stream",
     "text": [
      "<class 'pandas.core.frame.DataFrame'>\n",
      "RangeIndex: 203 entries, 0 to 202\n",
      "Data columns (total 4 columns):\n",
      "Original File    203 non-null object\n",
      "Chunk Number     203 non-null int64\n",
      "Wave             203 non-null object\n",
      "is Filler        203 non-null int64\n",
      "dtypes: int64(2), object(2)\n",
      "memory usage: 6.4+ KB\n"
     ]
    }
   ],
   "source": [
    "masterOrig.info()"
   ]
  },
  {
   "cell_type": "code",
   "execution_count": 16,
   "metadata": {},
   "outputs": [
    {
     "data": {
      "text/plain": [
       "count    203.000000\n",
       "mean       0.211823\n",
       "std        0.409610\n",
       "min        0.000000\n",
       "25%        0.000000\n",
       "50%        0.000000\n",
       "75%        0.000000\n",
       "max        1.000000\n",
       "Name: is Filler, dtype: float64"
      ]
     },
     "execution_count": 16,
     "metadata": {},
     "output_type": "execute_result"
    }
   ],
   "source": [
    "masterOrig['is Filler'].describe()"
   ]
  },
  {
   "cell_type": "code",
   "execution_count": 17,
   "metadata": {},
   "outputs": [
    {
     "data": {
      "text/html": [
       "<div>\n",
       "<style scoped>\n",
       "    .dataframe tbody tr th:only-of-type {\n",
       "        vertical-align: middle;\n",
       "    }\n",
       "\n",
       "    .dataframe tbody tr th {\n",
       "        vertical-align: top;\n",
       "    }\n",
       "\n",
       "    .dataframe thead th {\n",
       "        text-align: right;\n",
       "    }\n",
       "</style>\n",
       "<table border=\"1\" class=\"dataframe\">\n",
       "  <thead>\n",
       "    <tr style=\"text-align: right;\">\n",
       "      <th></th>\n",
       "      <th>Original File</th>\n",
       "      <th>Chunk Number</th>\n",
       "      <th>Wave</th>\n",
       "      <th>is Filler</th>\n",
       "    </tr>\n",
       "  </thead>\n",
       "  <tbody>\n",
       "    <tr>\n",
       "      <th>0</th>\n",
       "      <td>astronomy_filler.wav</td>\n",
       "      <td>0</td>\n",
       "      <td>[[ 1.32013088e+01  2.00661330e+00  3.85204320e...</td>\n",
       "      <td>0</td>\n",
       "    </tr>\n",
       "    <tr>\n",
       "      <th>1</th>\n",
       "      <td>astronomy_filler.wav</td>\n",
       "      <td>1</td>\n",
       "      <td>[[ 1.27103646e+01 -1.25848366e+00 -2.42411838e...</td>\n",
       "      <td>0</td>\n",
       "    </tr>\n",
       "    <tr>\n",
       "      <th>2</th>\n",
       "      <td>astronomy_filler.wav</td>\n",
       "      <td>10</td>\n",
       "      <td>[[ 1.43753951e+01  9.60113177e-01  4.62664491e...</td>\n",
       "      <td>1</td>\n",
       "    </tr>\n",
       "    <tr>\n",
       "      <th>3</th>\n",
       "      <td>astronomy_filler.wav</td>\n",
       "      <td>11</td>\n",
       "      <td>[[ 8.58090302e+00 -2.99967944e-02  1.19765435e...</td>\n",
       "      <td>0</td>\n",
       "    </tr>\n",
       "    <tr>\n",
       "      <th>4</th>\n",
       "      <td>astronomy_filler.wav</td>\n",
       "      <td>12</td>\n",
       "      <td>[[ 1.24854017e+01  1.24895083e+00  1.59802370e...</td>\n",
       "      <td>0</td>\n",
       "    </tr>\n",
       "  </tbody>\n",
       "</table>\n",
       "</div>"
      ],
      "text/plain": [
       "          Original File  Chunk Number  \\\n",
       "0  astronomy_filler.wav             0   \n",
       "1  astronomy_filler.wav             1   \n",
       "2  astronomy_filler.wav            10   \n",
       "3  astronomy_filler.wav            11   \n",
       "4  astronomy_filler.wav            12   \n",
       "\n",
       "                                                Wave  is Filler  \n",
       "0  [[ 1.32013088e+01  2.00661330e+00  3.85204320e...          0  \n",
       "1  [[ 1.27103646e+01 -1.25848366e+00 -2.42411838e...          0  \n",
       "2  [[ 1.43753951e+01  9.60113177e-01  4.62664491e...          1  \n",
       "3  [[ 8.58090302e+00 -2.99967944e-02  1.19765435e...          0  \n",
       "4  [[ 1.24854017e+01  1.24895083e+00  1.59802370e...          0  "
      ]
     },
     "execution_count": 17,
     "metadata": {},
     "output_type": "execute_result"
    }
   ],
   "source": [
    "masterOrig.head()"
   ]
  },
  {
   "cell_type": "code",
   "execution_count": 28,
   "metadata": {},
   "outputs": [
    {
     "data": {
      "text/plain": [
       "numpy.ndarray"
      ]
     },
     "execution_count": 28,
     "metadata": {},
     "output_type": "execute_result"
    }
   ],
   "source": [
    "#Check the feature's data type\n",
    "type(masterOrig['Wave'].values[0])\n",
    "#=> Need to convert from string to numpy.array"
   ]
  },
  {
   "cell_type": "code",
   "execution_count": 19,
   "metadata": {},
   "outputs": [],
   "source": [
    "#Since the value at column \"Wave\" is string type when converting .csv files to dataframe\n",
    "#convertString2Array(df,col_name) will convert \"Wave\" column's values from string back to np.array\n",
    "import re, ast\n",
    "def convertString2Array(df,col_name):\n",
    "    numRows = df.shape[0]\n",
    "    new_values = []\n",
    "    #for each row in the given column\n",
    "    for r in range(numRows):\n",
    "        #get the original value of cell\n",
    "        cell = df[col_name].values[r]#df[col_name][r].values[0]\n",
    "        #convert string to np array\n",
    "        cell = re.sub(\"\\s+\",\",\",cell)\n",
    "        cell = cell.replace(\"[,\",\"[\")\n",
    "        new_cell = np.array(ast.literal_eval(cell))\n",
    "        #add to a new list\n",
    "        new_values.append(new_cell)\n",
    "    #Modify the given column to new values\n",
    "    df[col_name] = new_values\n",
    "    return df\n",
    "masterOrig = convertString2Array(masterOrig,'Wave')"
   ]
  },
  {
   "cell_type": "code",
   "execution_count": 20,
   "metadata": {},
   "outputs": [
    {
     "name": "stdout",
     "output_type": "stream",
     "text": [
      "Type: <class 'numpy.ndarray'>\n",
      "Data shape: (20, 4)\n"
     ]
    }
   ],
   "source": [
    "#Check the data type of feature \n",
    "print(\"Type:\",type(masterOrig['Wave'].values[0]))\n",
    "print(\"Data shape:\",masterOrig['Wave'].values[0].shape)"
   ]
  },
  {
   "cell_type": "code",
   "execution_count": 22,
   "metadata": {},
   "outputs": [],
   "source": [
    "#Since the data is 203 x 20 x 4 (203 matrices of shape 20x4)\n",
    "#convertSeries2X(df,seriesName)flatten out the matrix and convert \n",
    "#203x20x4 to 203x80\n",
    "def convertSeries2X(df,seriesName):\n",
    "    new_X = []\n",
    "    for element in df[seriesName].values:\n",
    "        new_X.append(element.flatten())\n",
    "    new_X = np.array(new_X)\n",
    "    return new_X"
   ]
  },
  {
   "cell_type": "code",
   "execution_count": 23,
   "metadata": {},
   "outputs": [
    {
     "data": {
      "text/plain": [
       "(203, 80)"
      ]
     },
     "execution_count": 23,
     "metadata": {},
     "output_type": "execute_result"
    }
   ],
   "source": [
    "X = convertSeries2X(masterOrig,'Wave')\n",
    "X.shape"
   ]
  },
  {
   "cell_type": "code",
   "execution_count": 26,
   "metadata": {},
   "outputs": [
    {
     "data": {
      "image/png": "[encoded data removed]",
      "text/plain": [
       "<Figure size 432x288 with 1 Axes>"
      ]
     },
     "metadata": {},
     "output_type": "display_data"
    }
   ],
   "source": [
    "plt.scatter(X[:, 0], X[:, 1], s=50, cmap='viridis') \n",
    "plt.show()  "
   ]
  },
  {
   "cell_type": "markdown",
   "metadata": {},
   "source": [
    "Comment: The separated 6 dot can be outliers. "
   ]
  },
  {
   "cell_type": "code",
   "execution_count": null,
   "metadata": {},
   "outputs": [],
   "source": []
  }
 ],
 "metadata": {
  "kernelspec": {
   "display_name": "Python 3",
   "language": "python",
   "name": "python3"
  },
  "language_info": {
   "codemirror_mode": {
    "name": "ipython",
    "version": 3
   },
   "file_extension": ".py",
   "mimetype": "text/x-python",
   "name": "python",
   "nbconvert_exporter": "python",
   "pygments_lexer": "ipython3",
   "version": "3.5.5"
  }
 },
 "nbformat": 4,
 "nbformat_minor": 2
}
