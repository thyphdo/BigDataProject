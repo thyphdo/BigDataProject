{
 "cells": [
  {
   "cell_type": "markdown",
   "metadata": {},
   "source": [
    "## Note\n",
    "\n",
    "This script contains the primary step of trying different machine learning algorithm to answer the question: Whether we can detect a speech audio file contains filler words or not.\n",
    "\n",
    "In order to run this script:\n",
    "\n",
    "    1. all .wav file should be already processed into .csv file through proj2.ipynb\n",
    "    2. This script should be in the same folder with all .csv files listed in 'filename' list \n",
    "    \n",
    "The algorithms are performed based on the following assumptions:\n",
    "    \n",
    "    1. The wave data (after PDA step) is compressed to a list of 20x4 matrix. 20 rows is chosen by the MFCC normalize algorithm and 4 features is chosen as the component number at PDA step. These two parameters can be modified.\n",
    "    \n",
    "    2. The 20x4 matrix is flattened (reshape) to a 80-element list. Data X is a 203 rows of a single column containing a list of 80 element."
   ]
  },
  {
   "cell_type": "code",
   "execution_count": 3,
   "metadata": {},
   "outputs": [],
   "source": [
    "import librosa\n",
    "import matplotlib.pyplot as plt\n",
    "import IPython.display as ipd\n",
    "import librosa.display\n",
    "import numpy as np\n",
    "import pandas as pd\n",
    "import re\n",
    "%matplotlib inline"
   ]
  },
  {
   "cell_type": "markdown",
   "metadata": {},
   "source": [
    "### Re-create the data into dataframe"
   ]
  },
  {
   "cell_type": "code",
   "execution_count": 4,
   "metadata": {},
   "outputs": [],
   "source": [
    "filename = ['astronomy_filler','batman_filler','food_filler','forrestgump_filler','greeneggs_filler',\n",
    "           'hamlet_filler','honorcode_filler','ironman_filler','uh_training','wonka_filler']"
   ]
  },
  {
   "cell_type": "code",
   "execution_count": 5,
   "metadata": {},
   "outputs": [],
   "source": [
    "def genDataFrame(names,masterDF):\n",
    "    for file in names:\n",
    "        df = pd.read_csv(file+'.csv')\n",
    "        masterDF = pd.concat([masterDF,df])\n",
    "    #reset indices\n",
    "    masterDF = masterDF.reset_index(drop=True)\n",
    "    return masterDF\n",
    "masterOrig = genDataFrame(filename,pd.DataFrame())\n",
    "masterOrig.head()\n",
    "#Change column name \n",
    "masterOrig = masterOrig.rename(columns={'Featured Wave': 'Wave'})"
   ]
  },
  {
   "cell_type": "code",
   "execution_count": 10,
   "metadata": {},
   "outputs": [],
   "source": [
    "#Since the value at column \"Wave\" is string type when converting .csv files to dataframe\n",
    "#convertString2Array(df,col_name) will convert \"Wave\" column's values from string back to np.array\n",
    "import re, ast\n",
    "def convertString2Array(df,col_name):\n",
    "    numRows = df.shape[0]\n",
    "    new_values = []\n",
    "    #for each row in the given column\n",
    "    for r in range(numRows):\n",
    "        #get the original value of cell\n",
    "        cell = df[col_name].values[r]#df[col_name][r].values[0]\n",
    "        #convert string to np array\n",
    "        cell = re.sub(\"\\s+\",\",\",cell)\n",
    "        cell = cell.replace(\"[,\",\"[\")\n",
    "        new_cell = np.array(ast.literal_eval(cell))\n",
    "        #add to a new list\n",
    "        new_values.append(new_cell)\n",
    "    #Modify the given column to new values\n",
    "    df[col_name] = new_values\n",
    "    return df\n",
    "masterOrig = convertString2Array(masterOrig,'Wave')"
   ]
  },
  {
   "cell_type": "code",
   "execution_count": 12,
   "metadata": {},
   "outputs": [],
   "source": [
    "#Since the data is 203 x 20 x 4 (203 matrices of shape 20x4)\n",
    "#convertSeries2X(df,seriesName)flatten out the matrix and convert \n",
    "#203x20x4 to 203x80\n",
    "def convertSeries2X(df,seriesName):\n",
    "    new_X = []\n",
    "    for element in df[seriesName].values:\n",
    "        new_X.append(element.flatten())\n",
    "    new_X = np.array(new_X)\n",
    "    return new_X"
   ]
  },
  {
   "cell_type": "code",
   "execution_count": 13,
   "metadata": {
    "scrolled": true
   },
   "outputs": [
    {
     "data": {
      "text/plain": [
       "(203, 80)"
      ]
     },
     "execution_count": 13,
     "metadata": {},
     "output_type": "execute_result"
    }
   ],
   "source": [
    "X = convertSeries2X(masterOrig,'Wave')\n",
    "X.shape"
   ]
  },
  {
   "cell_type": "markdown",
   "metadata": {},
   "source": [
    "# Algorithms\n",
    "\n",
    "Features of the algorithms will be the PCA-ed wave arrays in column 'Wave' and Target will be column 'is Filler'\n",
    "In order to have the right format to be train, feature data will need to be decrea"
   ]
  },
  {
   "cell_type": "markdown",
   "metadata": {},
   "source": [
    "## Clustering Algorithms"
   ]
  },
  {
   "cell_type": "code",
   "execution_count": 82,
   "metadata": {},
   "outputs": [],
   "source": [
    "#===PREPARING METHODS TO VALIDATE UNSUPERVISED LEARNING====#\n",
    "from scipy import stats\n",
    "def fromIdx2String(num):\n",
    "    if num == 0:\n",
    "        return 'Normal record'\n",
    "    else:\n",
    "        return 'Filler record'\n",
    "def cluster2Filler(data,target,clusters,clusterID):\n",
    "    report = ''\n",
    "    size = len(clusters)\n",
    "    #Identify which number this cluster mostly represent - cluster_rep\n",
    "    clusterIdx = [i for i in range(size) if clusters[i] == clusterID]\n",
    "    true_targets = target[clusterIdx] #true target of the components in this cluster\n",
    "    cluster_rep = stats.mode(true_targets)[0][0] #most common target is the representative of this cluster\n",
    "\n",
    "    #Calculate the frequency of cluster_rep in this cluster\n",
    "    rep_cluster_count = sum(target[clusterIdx] == cluster_rep)\n",
    "#     print('* ' + str(rep_cluster_count))\n",
    "    \n",
    "    #Calculate the frequency of cluster_rep in the whole data\n",
    "    rep_data_count = sum([ (target[i] == cluster_rep) for i in range(size)])\n",
    "#     print('* ' + str(rep_data_count))\n",
    "\n",
    "    #True positive \n",
    "    TP = round(rep_cluster_count / rep_data_count * 100,2)\n",
    "    report += 'Cluster ' + str(clusterID) + ' is mostly ' + fromIdx2String(cluster_rep) + ' ( ' + str(TP) + '% TP); '\n",
    "    \n",
    "    #False negatives\n",
    "    report += ' ' + fromIdx2String(cluster_rep) + ' is also in clusters '\n",
    "    \n",
    "    #Search in other clusters for the representative\n",
    "    for ID in range(2):\n",
    "        if (ID != clusterID):\n",
    "            #Identify this cluster id list\n",
    "            otherClusterIdx = [i for i in range(size) if clusters[i] == ID]\n",
    "            other_true_targets = target[otherClusterIdx]\n",
    "            #Check if this cluster contains the representative \n",
    "            containsRep = cluster_rep in np.unique(other_true_targets)\n",
    "            #If, contain rep, do some works\n",
    "            if containsRep == True:\n",
    "                #Calculate frequency of rep in this cluster \n",
    "                rep_frequency = sum(other_true_targets == cluster_rep)\n",
    "                \n",
    "                #Rep % \n",
    "                rep_percentage = round(rep_frequency / rep_data_count * 100,2)\n",
    "                \n",
    "                #Update report \n",
    "                report += str(ID) + '(' + str(rep_percentage) + '%) '   \n",
    "    print (report)"
   ]
  },
  {
   "cell_type": "code",
   "execution_count": 83,
   "metadata": {
    "scrolled": false
   },
   "outputs": [],
   "source": [
    "# from sklearn.cluster import KMeans\n",
    "# plt.scatter(X[:, 0], X[:, 70], s=50, cmap='viridis') #Dropping the outliners\n",
    "# plt.show()"
   ]
  },
  {
   "cell_type": "markdown",
   "metadata": {},
   "source": [
    "### 1. KMeans"
   ]
  },
  {
   "cell_type": "code",
   "execution_count": 84,
   "metadata": {},
   "outputs": [],
   "source": [
    "#Create a new copy of original master\n",
    "masterKM = masterOrig.copy()"
   ]
  },
  {
   "cell_type": "code",
   "execution_count": 199,
   "metadata": {},
   "outputs": [
    {
     "data": {
      "image/png": "[encoded data removed]",
      "text/plain": [
       "<Figure size 432x288 with 1 Axes>"
      ]
     },
     "metadata": {},
     "output_type": "display_data"
    }
   ],
   "source": [
    "kmeans = KMeans(n_clusters=2)\n",
    "X = convertSeries2X(masterKM,'Wave')\n",
    "kmeans.fit(X)\n",
    "Yhat = kmeans.predict(X)\n",
    "plt.scatter(X[:, 0], X[:, 1], c=Yhat,s=50, cmap='viridis') #Confirm dropping the yellow outliers \n",
    "centers = kmeans.cluster_centers_\n",
    "plt.scatter(centers[:, 0], centers[:, 1], c='black', s=200, alpha=0.5);\n",
    "plt.show()  "
   ]
  },
  {
   "cell_type": "code",
   "execution_count": 87,
   "metadata": {
    "scrolled": true
   },
   "outputs": [
    {
     "name": "stdout",
     "output_type": "stream",
     "text": [
      "Result of testing on training data:\n",
      "Cluster 0 is mostly Normal record ( 96.88% TP);  Normal record is also in clusters 1(3.12%) \n",
      "Cluster 1 is mostly Normal record ( 3.12% TP);  Normal record is also in clusters 0(96.88%) \n"
     ]
    }
   ],
   "source": [
    "print('Result of testing on training data:')\n",
    "cluster2Filler(X,masterKM['is Filler'].values,Yhat,0)\n",
    "cluster2Filler(X,masterKM['is Filler'].values,Yhat,1)"
   ]
  },
  {
   "cell_type": "markdown",
   "metadata": {},
   "source": [
    "Comment: Both clusters contain a high number of 'non-filler' waves. Clearly, 'is-filler' waves is not fully separated. However, we're curious on what information the yellow outliers contain"
   ]
  },
  {
   "cell_type": "code",
   "execution_count": 89,
   "metadata": {},
   "outputs": [
    {
     "data": {
      "text/html": [
       "<div>\n",
       "<style scoped>\n",
       "    .dataframe tbody tr th:only-of-type {\n",
       "        vertical-align: middle;\n",
       "    }\n",
       "\n",
       "    .dataframe tbody tr th {\n",
       "        vertical-align: top;\n",
       "    }\n",
       "\n",
       "    .dataframe thead th {\n",
       "        text-align: right;\n",
       "    }\n",
       "</style>\n",
       "<table border=\"1\" class=\"dataframe\">\n",
       "  <thead>\n",
       "    <tr style=\"text-align: right;\">\n",
       "      <th></th>\n",
       "      <th>Original File</th>\n",
       "      <th>Chunk Number</th>\n",
       "      <th>Wave</th>\n",
       "      <th>is Filler</th>\n",
       "    </tr>\n",
       "  </thead>\n",
       "  <tbody>\n",
       "    <tr>\n",
       "      <th>30</th>\n",
       "      <td>food_filler.wav</td>\n",
       "      <td>15</td>\n",
       "      <td>[[-9.95699732, -1.33989126, -0.923800407, 0.27...</td>\n",
       "      <td>0</td>\n",
       "    </tr>\n",
       "    <tr>\n",
       "      <th>124</th>\n",
       "      <td>honorcode_filler.wav</td>\n",
       "      <td>24</td>\n",
       "      <td>[[-8.59750934, 0.37149731, -0.833329412, -0.05...</td>\n",
       "      <td>0</td>\n",
       "    </tr>\n",
       "    <tr>\n",
       "      <th>127</th>\n",
       "      <td>honorcode_filler.wav</td>\n",
       "      <td>4</td>\n",
       "      <td>[[-5.90168716, -0.197360213, 0.189155613, 0.00...</td>\n",
       "      <td>0</td>\n",
       "    </tr>\n",
       "    <tr>\n",
       "      <th>188</th>\n",
       "      <td>uh_training.wav</td>\n",
       "      <td>7</td>\n",
       "      <td>[[-11.66462645, -0.95131845, 0.07867855, -0.04...</td>\n",
       "      <td>1</td>\n",
       "    </tr>\n",
       "    <tr>\n",
       "      <th>196</th>\n",
       "      <td>wonka_filler.wav</td>\n",
       "      <td>3</td>\n",
       "      <td>[[-8.55833352, 1.22972748, -0.178484, -0.09501...</td>\n",
       "      <td>0</td>\n",
       "    </tr>\n",
       "    <tr>\n",
       "      <th>201</th>\n",
       "      <td>wonka_filler.wav</td>\n",
       "      <td>8</td>\n",
       "      <td>[[-14.3743407, 3.21389045, 0.104736432, 0.1675...</td>\n",
       "      <td>0</td>\n",
       "    </tr>\n",
       "  </tbody>\n",
       "</table>\n",
       "</div>"
      ],
      "text/plain": [
       "            Original File  Chunk Number  \\\n",
       "30        food_filler.wav            15   \n",
       "124  honorcode_filler.wav            24   \n",
       "127  honorcode_filler.wav             4   \n",
       "188       uh_training.wav             7   \n",
       "196      wonka_filler.wav             3   \n",
       "201      wonka_filler.wav             8   \n",
       "\n",
       "                                                  Wave  is Filler  \n",
       "30   [[-9.95699732, -1.33989126, -0.923800407, 0.27...          0  \n",
       "124  [[-8.59750934, 0.37149731, -0.833329412, -0.05...          0  \n",
       "127  [[-5.90168716, -0.197360213, 0.189155613, 0.00...          0  \n",
       "188  [[-11.66462645, -0.95131845, 0.07867855, -0.04...          1  \n",
       "196  [[-8.55833352, 1.22972748, -0.178484, -0.09501...          0  \n",
       "201  [[-14.3743407, 3.21389045, 0.104736432, 0.1675...          0  "
      ]
     },
     "execution_count": 89,
     "metadata": {},
     "output_type": "execute_result"
    }
   ],
   "source": [
    "outlier_idx = [idx for idx in range(len(Yhat)) if Yhat[idx] == 1]\n",
    "#Check the outlier's information\n",
    "masterKM.iloc[outlier_idx]"
   ]
  },
  {
   "cell_type": "code",
   "execution_count": 90,
   "metadata": {},
   "outputs": [
    {
     "data": {
      "image/png": "[encoded data removed]",
      "text/plain": [
       "<Figure size 432x288 with 1 Axes>"
      ]
     },
     "metadata": {},
     "output_type": "display_data"
    }
   ],
   "source": [
    "#Drop the outlier\n",
    "masterKM_clean = masterKM.drop(masterKM.index[outlier_idx])\n",
    "masterKM_clean = masterKM_clean.reset_index()\n",
    "\n",
    "X_clean = convertSeries2X(masterKM_clean,'Wave')\n",
    "plt.scatter(X_clean[:, 0], X_clean[:,1], s=50, cmap='viridis')\n",
    "plt.show() "
   ]
  },
  {
   "cell_type": "code",
   "execution_count": 91,
   "metadata": {},
   "outputs": [
    {
     "data": {
      "text/plain": [
       "(197, 80)"
      ]
     },
     "execution_count": 91,
     "metadata": {},
     "output_type": "execute_result"
    }
   ],
   "source": [
    "X_clean.shape"
   ]
  },
  {
   "cell_type": "markdown",
   "metadata": {},
   "source": [
    "### 2. Spectral Clustering"
   ]
  },
  {
   "cell_type": "code",
   "execution_count": 158,
   "metadata": {},
   "outputs": [],
   "source": [
    "from sklearn.cluster import SpectralClustering\n",
    "#Create a new copy of original master\n",
    "master= masterOrig.copy()\n",
    "X = convertSeries2X(master,'Wave')\n",
    "y = master['is Filler'].values"
   ]
  },
  {
   "cell_type": "code",
   "execution_count": 153,
   "metadata": {},
   "outputs": [
    {
     "data": {
      "image/png": "[encoded data removed]",
      "text/plain": [
       "<Figure size 432x288 with 1 Axes>"
      ]
     },
     "metadata": {},
     "output_type": "display_data"
    }
   ],
   "source": [
    "model = SpectralClustering(n_clusters=2, affinity='nearest_neighbors',assign_labels='kmeans')\n",
    "labels = model.fit_predict(X)\n",
    "plt.scatter(X[:, 0], X[:, 1], c=labels, s=50, cmap='viridis');"
   ]
  },
  {
   "cell_type": "code",
   "execution_count": 159,
   "metadata": {},
   "outputs": [
    {
     "name": "stdout",
     "output_type": "stream",
     "text": [
      "Spectral Clustering result:\n",
      "Cluster 0 is mostly Normal record ( 48.12% TP);  Normal record is also in clusters 1(51.88%) \n",
      "Cluster 1 is mostly Normal record ( 51.88% TP);  Normal record is also in clusters 0(48.12%) \n"
     ]
    }
   ],
   "source": [
    "print('Spectral Clustering result:')\n",
    "cluster2Filler(X,y,labels,0)\n",
    "cluster2Filler(X,y,labels,1)"
   ]
  },
  {
   "cell_type": "markdown",
   "metadata": {},
   "source": [
    "Again, the clustering still detects both cluster as 'non-filler' cluster. However, this time, the algorithm seems to be worst since there is a nearly even split of Normal records in both cluster. Let's try this algorithm again with the non-outlier data:"
   ]
  },
  {
   "cell_type": "code",
   "execution_count": 155,
   "metadata": {},
   "outputs": [
    {
     "data": {
      "image/png": "[encoded data removed]",
      "text/plain": [
       "<Figure size 432x288 with 1 Axes>"
      ]
     },
     "metadata": {},
     "output_type": "display_data"
    }
   ],
   "source": [
    "model_clean = SpectralClustering(n_clusters=2, affinity='nearest_neighbors',assign_labels='kmeans')\n",
    "labels_clean = model_clean.fit_predict(X_clean)\n",
    "plt.scatter(X_clean[:, 0], X_clean[:, 1], c=labels_clean, s=50, cmap='viridis');"
   ]
  },
  {
   "cell_type": "code",
   "execution_count": 160,
   "metadata": {},
   "outputs": [
    {
     "name": "stdout",
     "output_type": "stream",
     "text": [
      "Spectral Clustering result without the outliers:\n",
      "Cluster 0 is mostly Normal record ( 52.26% TP);  Normal record is also in clusters 1(47.74%) \n",
      "Cluster 1 is mostly Normal record ( 47.74% TP);  Normal record is also in clusters 0(52.26%) \n"
     ]
    }
   ],
   "source": [
    "# cluster2Filler(masterKM_clean['is Filler'],labels_clean,2)\n",
    "print('Spectral Clustering result without the outliers:')\n",
    "y_clean = masterKM_clean['is Filler'].values\n",
    "cluster2Filler(X,y_clean,labels_clean,0)\n",
    "cluster2Filler(X,y_clean,labels_clean,1)"
   ]
  },
  {
   "cell_type": "markdown",
   "metadata": {},
   "source": [
    "Sprectral Clustering on clean X is no better."
   ]
  },
  {
   "cell_type": "markdown",
   "metadata": {},
   "source": [
    "### 3. Mini Batch Kmeans"
   ]
  },
  {
   "cell_type": "code",
   "execution_count": 157,
   "metadata": {},
   "outputs": [
    {
     "data": {
      "image/png": "[encoded data removed]",
      "text/plain": [
       "<Figure size 432x288 with 1 Axes>"
      ]
     },
     "metadata": {},
     "output_type": "display_data"
    }
   ],
   "source": [
    "from sklearn import cluster, mixture\n",
    "mb= cluster.MiniBatchKMeans(2)\n",
    "mb_result=mb.fit_predict(X)\n",
    "plt.scatter(X[:, 0], X[:, 1],  c=mb_result)\n",
    "plt.show()  "
   ]
  },
  {
   "cell_type": "code",
   "execution_count": 161,
   "metadata": {},
   "outputs": [
    {
     "name": "stdout",
     "output_type": "stream",
     "text": [
      "Mini batch Kmeans result:\n",
      "Cluster 0 is mostly Normal record ( 51.88% TP);  Normal record is also in clusters 1(48.12%) \n",
      "Cluster 1 is mostly Normal record ( 48.12% TP);  Normal record is also in clusters 0(51.88%) \n"
     ]
    }
   ],
   "source": [
    "# cluster2Filler(masterMB['is Filler'],mb_result,2)\n",
    "print('Mini batch Kmeans result:')\n",
    "cluster2Filler(X,master['is Filler'].values,mb_result,0)\n",
    "cluster2Filler(X,master['is Filler'].values,mb_result,1)"
   ]
  },
  {
   "cell_type": "markdown",
   "metadata": {},
   "source": [
    "Comment: not going to move on with MiniBatch KMeans"
   ]
  },
  {
   "cell_type": "markdown",
   "metadata": {},
   "source": [
    "### 5. Birch"
   ]
  },
  {
   "cell_type": "code",
   "execution_count": 162,
   "metadata": {},
   "outputs": [
    {
     "data": {
      "image/png": "[encoded data removed]",
      "text/plain": [
       "<Figure size 432x288 with 1 Axes>"
      ]
     },
     "metadata": {},
     "output_type": "display_data"
    },
    {
     "name": "stdout",
     "output_type": "stream",
     "text": [
      "Birch Clustering result:\n",
      "Cluster 0 is mostly Normal record ( 96.88% TP);  Normal record is also in clusters 1(3.12%) \n",
      "Cluster 1 is mostly Normal record ( 3.12% TP);  Normal record is also in clusters 0(96.88%) \n"
     ]
    }
   ],
   "source": [
    "#Birch\n",
    "\n",
    "bi=cluster.Birch(n_clusters=2)\n",
    "bi_result=bi.fit_predict(X)\n",
    "plt.scatter(X[:, 0], X[:, 1],  c=bi_result)\n",
    "plt.show()  \n",
    "\n",
    "print('Birch Clustering result:')\n",
    "cluster2Filler(X,y,bi_result,0)\n",
    "cluster2Filler(X,y,bi_result,1)"
   ]
  },
  {
   "cell_type": "markdown",
   "metadata": {},
   "source": [
    "### 5. Gaussian Mixture Clustering"
   ]
  },
  {
   "cell_type": "code",
   "execution_count": 164,
   "metadata": {},
   "outputs": [
    {
     "data": {
      "image/png": "[encoded data removed]",
      "text/plain": [
       "<Figure size 432x288 with 1 Axes>"
      ]
     },
     "metadata": {},
     "output_type": "display_data"
    },
    {
     "name": "stdout",
     "output_type": "stream",
     "text": [
      "Gaussian Mixture Clustering result:\n",
      "Cluster 0 is mostly Normal record ( 53.12% TP);  Normal record is also in clusters 1(46.88%) \n",
      "Cluster 1 is mostly Normal record ( 46.88% TP);  Normal record is also in clusters 0(53.12%) \n"
     ]
    }
   ],
   "source": [
    "#Gaussian Mixture\n",
    "\n",
    "gm=mixture.GaussianMixture(n_components=2,covariance_type='full')\n",
    "gm.fit(X)\n",
    "gm_result=gm.predict(X)\n",
    "\n",
    "plt.scatter(X[:, 0], X[:, 1],  c=gm_result)\n",
    "plt.show()  \n",
    "\n",
    "print('Gaussian Mixture Clustering result:')\n",
    "cluster2Filler(X,y,gm_result,0)\n",
    "cluster2Filler(X,y,gm_result,1)"
   ]
  },
  {
   "cell_type": "markdown",
   "metadata": {},
   "source": [
    "## Classification Algorithms"
   ]
  },
  {
   "cell_type": "code",
   "execution_count": 193,
   "metadata": {},
   "outputs": [],
   "source": [
    "from sklearn.cross_validation import train_test_split\n",
    "from sklearn.model_selection import cross_val_score\n",
    "from sklearn.metrics import confusion_matrix\n",
    "import seaborn as sns\n",
    "\n",
    "from sklearn.metrics import accuracy_score\n",
    "Xtrain, Xtest, ytrain, ytest = train_test_split(X, masterOrig['is Filler'],random_state=42,train_size=0.7)"
   ]
  },
  {
   "cell_type": "markdown",
   "metadata": {},
   "source": [
    "### 1. Gaussian NB"
   ]
  },
  {
   "cell_type": "code",
   "execution_count": 215,
   "metadata": {},
   "outputs": [
    {
     "name": "stdout",
     "output_type": "stream",
     "text": [
      "Gaussian NB testing accuracy score: 0.7049180327868853\n",
      "More reports\n",
      "               precision    recall  f1-score   support\n",
      "\n",
      "Normal Record       0.93      0.64      0.76        44\n",
      "Filler Record       0.48      0.88      0.62        17\n",
      "\n",
      "  avg / total       0.81      0.70      0.72        61\n",
      "\n"
     ]
    }
   ],
   "source": [
    "#Training GaussianNB on 70% data \n",
    "from sklearn.naive_bayes import GaussianNB\n",
    "GNBmodel = GaussianNB()\n",
    "GNBmodel.fit(Xtrain, ytrain);\n",
    "GNB_yhat = GNBmodel.predict(Xtest)\n",
    "print('Gaussian NB testing accuracy score:',accuracy_score(ytest,GNB_yhat))\n",
    "print('More reports')\n",
    "GNB_report = classification_report(ytest, GNB_yhat, target_names=['Normal Record','Filler Record'])\n",
    "print(GNB_report)"
   ]
  },
  {
   "cell_type": "code",
   "execution_count": 174,
   "metadata": {},
   "outputs": [
    {
     "name": "stdout",
     "output_type": "stream",
     "text": [
      "GNB model - cross validation mean score with 5 folds:  0.6257317073170732\n"
     ]
    }
   ],
   "source": [
    "scores = cross_val_score(GNBmodel, X, y, cv=5)\n",
    "print(\"GNB model - cross validation mean score with 5 folds: \",scores.mean())"
   ]
  },
  {
   "cell_type": "markdown",
   "metadata": {},
   "source": [
    "### 2. Kernel SVM - Linear/RBF/Poly"
   ]
  },
  {
   "cell_type": "code",
   "execution_count": 214,
   "metadata": {},
   "outputs": [
    {
     "name": "stdout",
     "output_type": "stream",
     "text": [
      "SVM linear kernel testing accuracy score: 0.7377049180327869\n",
      "More reports\n",
      "               precision    recall  f1-score   support\n",
      "\n",
      "Normal Record       0.85      0.77      0.81        44\n",
      "Filler Record       0.52      0.65      0.58        17\n",
      "\n",
      "  avg / total       0.76      0.74      0.75        61\n",
      "\n"
     ]
    }
   ],
   "source": [
    "#Training Linear Kernel SVM on 70% data \n",
    "\n",
    "from sklearn.svm import SVC # \"Support vector classifier\"\n",
    "SVCModel = SVC(kernel='linear', C=1E10)\n",
    "SVCModel.fit(Xtrain, ytrain)\n",
    "SVC_yhat = SVCModel.predict(Xtest)\n",
    "\n",
    "print('SVM linear kernel testing accuracy score:',accuracy_score(ytest,SVC_yhat))\n",
    "print('More reports')\n",
    "SVC_report = classification_report(ytest, SVC_yhat, target_names=['Normal Record','Filler Record'])\n",
    "print(SVC_report)"
   ]
  },
  {
   "cell_type": "code",
   "execution_count": 201,
   "metadata": {},
   "outputs": [
    {
     "name": "stdout",
     "output_type": "stream",
     "text": [
      "Linear Kernel SVM Model - cross validation mean score with 5 folds:  0.8428048780487805\n"
     ]
    }
   ],
   "source": [
    "scores = cross_val_score(SVCModel, X, y, cv=5)\n",
    "print(\"Linear Kernel SVM Model - cross validation mean score with 5 folds: \",scores.mean())"
   ]
  },
  {
   "cell_type": "markdown",
   "metadata": {},
   "source": [
    "#### Try implement Grid Search to find best kernel, C and gamma values\n"
   ]
  },
  {
   "cell_type": "code",
   "execution_count": 202,
   "metadata": {},
   "outputs": [
    {
     "name": "stdout",
     "output_type": "stream",
     "text": [
      "Optimal parameters for SVC algo:\n",
      "{'svc__gamma': 0.005, 'svc__kernel': 'rbf', 'svc__C': 50}\n"
     ]
    }
   ],
   "source": [
    "#Use Grid Search\n",
    "from sklearn.grid_search import GridSearchCV\n",
    "from sklearn.decomposition import PCA\n",
    "from sklearn.pipeline import make_pipeline\n",
    "\n",
    "pca = PCA(n_components=10, whiten=True, random_state=42)\n",
    "SVCModel_optimal = SVC(class_weight='balanced')\n",
    "param_grid = {'svc__kernel':['linear','rbf','poly'],\n",
    "              'svc__C': [1, 5, 10, 50],\n",
    "              'svc__gamma': [0.0001, 0.0005, 0.001, 0.005]}\n",
    "model = make_pipeline(pca, SVCModel_optimal)\n",
    "\n",
    "grid = GridSearchCV(model, param_grid)\n",
    "grid.fit(X, y)\n",
    "print('Optimal parameters for SVC algo:')\n",
    "print(grid.best_params_)"
   ]
  },
  {
   "cell_type": "code",
   "execution_count": 203,
   "metadata": {},
   "outputs": [
    {
     "name": "stdout",
     "output_type": "stream",
     "text": [
      "RBF Kernel SVM Model - cross validation mean score with 5 folds:  0.916219512195122\n"
     ]
    }
   ],
   "source": [
    "new_SVCModel = SVC(kernel='rbf', C=50,gamma=0.005)\n",
    "scores = cross_val_score(new_SVCModel, X, y, cv=5)\n",
    "print(\"RBF Kernel SVM Model - cross validation mean score with 5 folds: \",scores.mean())"
   ]
  },
  {
   "cell_type": "code",
   "execution_count": 185,
   "metadata": {},
   "outputs": [],
   "source": [
    "###Report cross validation?"
   ]
  },
  {
   "cell_type": "markdown",
   "metadata": {},
   "source": [
    "### 3. Logistic Regression"
   ]
  },
  {
   "cell_type": "code",
   "execution_count": 213,
   "metadata": {},
   "outputs": [
    {
     "name": "stdout",
     "output_type": "stream",
     "text": [
      "Logistic Regression testing accuracy score 0.8032786885245902\n",
      "More reports\n",
      "               precision    recall  f1-score   support\n",
      "\n",
      "Normal Record       0.85      0.89      0.87        44\n",
      "Filler Record       0.67      0.59      0.62        17\n",
      "\n",
      "  avg / total       0.80      0.80      0.80        61\n",
      "\n"
     ]
    }
   ],
   "source": [
    "from sklearn.linear_model import LogisticRegression\n",
    "LRModel = LogisticRegression()\n",
    "LRModel.fit(Xtrain,ytrain)\n",
    "LRModel_yhat = LRModel.predict(Xtest)\n",
    "print('Logistic Regression testing accuracy score',accuracy_score(LRModel_yhat,ytest))\n",
    "print('More reports')\n",
    "LR_report = classification_report(ytest, LRModel_yhat, target_names=['Normal Record','Filler Record'])\n",
    "print(LR_report)"
   ]
  },
  {
   "cell_type": "code",
   "execution_count": 209,
   "metadata": {},
   "outputs": [
    {
     "name": "stdout",
     "output_type": "stream",
     "text": [
      "Logistic Regression Model - cross validation mean score with 5 folds:  0.8817073170731708\n"
     ]
    }
   ],
   "source": [
    "scores = cross_val_score(LRModel, X, y, cv=5)\n",
    "print(\"Logistic Regression Model - cross validation mean score with 5 folds: \",scores.mean())"
   ]
  },
  {
   "cell_type": "markdown",
   "metadata": {},
   "source": [
    "#### Try implement grid search on different C values to find best parameters"
   ]
  },
  {
   "cell_type": "code",
   "execution_count": 190,
   "metadata": {},
   "outputs": [
    {
     "name": "stdout",
     "output_type": "stream",
     "text": [
      "{'C': 1}\n"
     ]
    }
   ],
   "source": [
    "param_grid = {'C': [0.001, 0.01, 0.1, 1, 10, 100, 1000] }\n",
    "grid = GridSearchCV(LRModel, param_grid)\n",
    "grid.fit(X, y)\n",
    "print(grid.best_params_)"
   ]
  },
  {
   "cell_type": "markdown",
   "metadata": {},
   "source": [
    "#### C = 1 is set by default, so the original model already statisfies the most optimal, we don't need to create a new model"
   ]
  },
  {
   "cell_type": "code",
   "execution_count": null,
   "metadata": {},
   "outputs": [],
   "source": [
    "# classification_report \n",
    "\n",
    "# For more information, see https://en.wikipedia.org/wiki/F1_score\n",
    "\n",
    "## precision: how many selected items are relevant?\n",
    "## precision: ability to not identify a negative sample as positive\n",
    "## precision = true_positives / (true_positives + false_positives)\n",
    "\n",
    "## recall: how many relevant items are selected?\n",
    "## recall: ability to find all positive samples (if it's not 1 => there's some forced negative)\n",
    "## recall = true_positives / (true_positives + false_negatives)\n",
    "\n",
    "## f1-score: measure of the classifier's accuracy\n",
    "## f1-score = harmonic mean of precion and recall\n",
    "##          = 2 * (precision * recall) / (precision + recall)"
   ]
  }
 ],
 "metadata": {
  "kernelspec": {
   "display_name": "Python 3",
   "language": "python",
   "name": "python3"
  },
  "language_info": {
   "codemirror_mode": {
    "name": "ipython",
    "version": 3
   },
   "file_extension": ".py",
   "mimetype": "text/x-python",
   "name": "python",
   "nbconvert_exporter": "python",
   "pygments_lexer": "ipython3",
   "version": "3.5.5"
  }
 },
 "nbformat": 4,
 "nbformat_minor": 2
}
