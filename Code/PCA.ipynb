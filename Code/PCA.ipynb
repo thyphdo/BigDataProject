{
 "cells": [
  {
   "cell_type": "code",
   "execution_count": 191,
   "metadata": {},
   "outputs": [],
   "source": [
    "from sklearn.decomposition import PCA\n",
    "import speech_recognition as sr\n",
    "import librosa\n",
    "import matplotlib.pyplot as plt\n",
    "import IPython.display as ipd\n",
    "import librosa.display\n",
    "import numpy as np\n",
    "from IPython.display import Audio\n",
    "%matplotlib inline"
   ]
  },
  {
   "cell_type": "code",
   "execution_count": 205,
   "metadata": {},
   "outputs": [],
   "source": [
    "def gen_PCA(wave,num_components,fs):\n",
    "    X = librosa.feature.mfcc(wave, sr=fs)\n",
    "    X = sklearn.preprocessing.scale(X)    \n",
    "    print (\"Old Shape\",X.shape)\n",
    "    print(\"Mean\",X.mean())\n",
    "    model = sklearn.decomposition.PCA(n_components=num_components, svd_solver='auto')\n",
    "    Y = model.fit_transform(X)\n",
    "    print (\"New Shape\",Y.shape)\n",
    "    print (\"Component shape\",model.components_.shape)\n",
    "    return Y\n",
    "\n",
    "def plot_CVE(wave):\n",
    "    X = librosa.feature.mfcc(wave, sr=fs)\n",
    "    X = sklearn.preprocessing.scale(X)  \n",
    "    pca = PCA().fit(X)\n",
    "    plt.plot(np.cumsum(pca.explained_variance_ratio_))\n",
    "    plt.xlabel('number of components')\n",
    "    plt.ylabel('cumulative explained variance')\n",
    "\n",
    "#Plot the two top principal components for each data point:\n",
    "def plot_top2(matrix):\n",
    "    %matplotlib inline\n",
    "    plt.rcParams['figure.figsize'] = (14, 5)\n",
    "    plt.scatter(matrix[:,0], matrix[:,1],)"
   ]
  },
  {
   "cell_type": "code",
   "execution_count": 207,
   "metadata": {},
   "outputs": [],
   "source": [
    "filename = 'chunk1'\n",
    "wave, fs = librosa.load(filename+'.wav')"
   ]
  },
  {
   "cell_type": "code",
   "execution_count": 209,
   "metadata": {
    "scrolled": true
   },
   "outputs": [
    {
     "data": {
      "text/plain": [
       "8361"
      ]
     },
     "execution_count": 209,
     "metadata": {},
     "output_type": "execute_result"
    }
   ],
   "source": [
    "len(wave)"
   ]
  },
  {
   "cell_type": "code",
   "execution_count": 220,
   "metadata": {},
   "outputs": [
    {
     "name": "stdout",
     "output_type": "stream",
     "text": [
      "Old Shape (20, 4)\n",
      "Mean -1.6653345369377347e-17\n",
      "New Shape (20, 4)\n",
      "Component shape (4, 4)\n"
     ]
    },
    {
     "data": {
      "text/plain": [
       "array([[ 8.23421464e+00,  6.89567956e-02,  1.20378634e-01,\n",
       "         2.22807835e-03],\n",
       "       [-8.79332605e-01,  1.32502877e+00, -8.25711454e-02,\n",
       "         6.43722668e-03],\n",
       "       [-1.03247078e+00,  1.38644871e-01,  2.88995234e-01,\n",
       "        -1.26272760e-02],\n",
       "       [-1.95829586e+00,  2.22089555e-01,  2.99807387e-01,\n",
       "        -1.60704916e-02],\n",
       "       [-6.33886873e-01, -1.78319900e-01,  3.39019202e-02,\n",
       "         5.27584765e-02],\n",
       "       [-1.53433006e+00, -4.74955101e-01,  1.27085490e-01,\n",
       "         2.17675607e-02],\n",
       "       [ 1.47517666e-01,  2.11614026e-01, -4.12915373e-02,\n",
       "         1.70692243e-02],\n",
       "       [ 7.96843544e-02,  4.78791325e-02, -1.06041430e-01,\n",
       "        -4.96872918e-04],\n",
       "       [-1.19715775e-01, -9.65501579e-02, -7.40524759e-02,\n",
       "        -7.74314980e-03],\n",
       "       [-1.75204189e-01, -1.43533977e-01, -3.91136248e-02,\n",
       "        -2.72273214e-03],\n",
       "       [ 9.86503173e-02, -1.40623145e-01, -1.32434561e-01,\n",
       "         1.78778769e-02],\n",
       "       [-1.50595714e-01, -1.19799916e-01, -1.02581586e-01,\n",
       "        -5.09645476e-02],\n",
       "       [-9.29010491e-02, -1.06697347e-01, -1.84486630e-01,\n",
       "        -5.89321623e-03],\n",
       "       [-2.39054384e-01, -2.39185413e-01, -3.70978110e-02,\n",
       "        -2.85720748e-02],\n",
       "       [-4.92029310e-01, -1.58086156e-01, -1.76789707e-02,\n",
       "        -1.01982040e-02],\n",
       "       [-4.58683792e-01, -7.74734135e-02, -1.47040938e-02,\n",
       "        -1.69150998e-02],\n",
       "       [ 1.06863999e-01, -5.53063092e-02,  1.73648489e-03,\n",
       "        -2.21372203e-02],\n",
       "       [ 7.93003572e-02, -5.95502672e-02, -3.41318977e-02,\n",
       "         7.78756577e-03],\n",
       "       [-4.06689236e-01, -3.67369552e-02, -4.58470046e-02,\n",
       "         3.40476462e-02],\n",
       "       [-5.73041718e-01, -1.27395089e-01,  4.01276183e-02,\n",
       "         1.43672299e-02]])"
      ]
     },
     "execution_count": 220,
     "metadata": {},
     "output_type": "execute_result"
    }
   ],
   "source": [
    "gen_PCA(wave,4,fs)"
   ]
  },
  {
   "cell_type": "code",
   "execution_count": 215,
   "metadata": {},
   "outputs": [],
   "source": [
    "filename = 'chunk6'\n",
    "wave, fs = librosa.load(filename+'.wav')"
   ]
  },
  {
   "cell_type": "code",
   "execution_count": 216,
   "metadata": {},
   "outputs": [
    {
     "data": {
      "text/plain": [
       "1761"
      ]
     },
     "execution_count": 216,
     "metadata": {},
     "output_type": "execute_result"
    }
   ],
   "source": [
    "len(wave)"
   ]
  },
  {
   "cell_type": "code",
   "execution_count": 218,
   "metadata": {},
   "outputs": [
    {
     "name": "stdout",
     "output_type": "stream",
     "text": [
      "Old Shape (20, 4)\n",
      "Mean -1.6653345369377347e-17\n",
      "New Shape (20, 4)\n",
      "Component shape (4, 4)\n"
     ]
    },
    {
     "data": {
      "text/plain": [
       "array([[ 8.23421464e+00,  6.89567956e-02,  1.20378634e-01,\n",
       "         2.22807835e-03],\n",
       "       [-8.79332605e-01,  1.32502877e+00, -8.25711454e-02,\n",
       "         6.43722668e-03],\n",
       "       [-1.03247078e+00,  1.38644871e-01,  2.88995234e-01,\n",
       "        -1.26272760e-02],\n",
       "       [-1.95829586e+00,  2.22089555e-01,  2.99807387e-01,\n",
       "        -1.60704916e-02],\n",
       "       [-6.33886873e-01, -1.78319900e-01,  3.39019202e-02,\n",
       "         5.27584765e-02],\n",
       "       [-1.53433006e+00, -4.74955101e-01,  1.27085490e-01,\n",
       "         2.17675607e-02],\n",
       "       [ 1.47517666e-01,  2.11614026e-01, -4.12915373e-02,\n",
       "         1.70692243e-02],\n",
       "       [ 7.96843544e-02,  4.78791325e-02, -1.06041430e-01,\n",
       "        -4.96872918e-04],\n",
       "       [-1.19715775e-01, -9.65501579e-02, -7.40524759e-02,\n",
       "        -7.74314980e-03],\n",
       "       [-1.75204189e-01, -1.43533977e-01, -3.91136248e-02,\n",
       "        -2.72273214e-03],\n",
       "       [ 9.86503173e-02, -1.40623145e-01, -1.32434561e-01,\n",
       "         1.78778769e-02],\n",
       "       [-1.50595714e-01, -1.19799916e-01, -1.02581586e-01,\n",
       "        -5.09645476e-02],\n",
       "       [-9.29010491e-02, -1.06697347e-01, -1.84486630e-01,\n",
       "        -5.89321623e-03],\n",
       "       [-2.39054384e-01, -2.39185413e-01, -3.70978110e-02,\n",
       "        -2.85720748e-02],\n",
       "       [-4.92029310e-01, -1.58086156e-01, -1.76789707e-02,\n",
       "        -1.01982040e-02],\n",
       "       [-4.58683792e-01, -7.74734135e-02, -1.47040938e-02,\n",
       "        -1.69150998e-02],\n",
       "       [ 1.06863999e-01, -5.53063092e-02,  1.73648489e-03,\n",
       "        -2.21372203e-02],\n",
       "       [ 7.93003572e-02, -5.95502672e-02, -3.41318977e-02,\n",
       "         7.78756577e-03],\n",
       "       [-4.06689236e-01, -3.67369552e-02, -4.58470046e-02,\n",
       "         3.40476462e-02],\n",
       "       [-5.73041718e-01, -1.27395089e-01,  4.01276183e-02,\n",
       "         1.43672299e-02]])"
      ]
     },
     "execution_count": 218,
     "metadata": {},
     "output_type": "execute_result"
    }
   ],
   "source": [
    "gen_PCA(wave,4,fs)"
   ]
  },
  {
   "cell_type": "code",
   "execution_count": null,
   "metadata": {},
   "outputs": [],
   "source": []
  }
 ],
 "metadata": {
  "kernelspec": {
   "display_name": "Python 3",
   "language": "python",
   "name": "python3"
  },
  "language_info": {
   "codemirror_mode": {
    "name": "ipython",
    "version": 3
   },
   "file_extension": ".py",
   "mimetype": "text/x-python",
   "name": "python",
   "nbconvert_exporter": "python",
   "pygments_lexer": "ipython3",
   "version": "3.5.5"
  }
 },
 "nbformat": 4,
 "nbformat_minor": 2
}
